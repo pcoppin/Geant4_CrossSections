{
 "cells": [
  {
   "cell_type": "code",
   "execution_count": 1,
   "metadata": {},
   "outputs": [],
   "source": [
    "from __future__ import print_function, division, absolute_import\n",
    "from glob import glob\n",
    "import numpy as np\n",
    "import matplotlib\n",
    "import matplotlib.pyplot as plt\n",
    "\n",
    "import os, sys\n",
    "home = os.path.expanduser(\"~\")+\"/\"\n",
    "\n",
    "sys.path.append(home + 'bee/Tools')\n",
    "import Tools"
   ]
  },
  {
   "cell_type": "code",
   "execution_count": 2,
   "metadata": {},
   "outputs": [],
   "source": [
    "#plt.style.use(Tools.mpl_style_file)"
   ]
  },
  {
   "cell_type": "code",
   "execution_count": 3,
   "metadata": {},
   "outputs": [],
   "source": [
    "in_file = \"../build/hadr00.out\"\n",
    "with open(in_file) as f:\n",
    "    lines = f.readlines()"
   ]
  },
  {
   "cell_type": "code",
   "execution_count": 4,
   "metadata": {},
   "outputs": [],
   "source": [
    "start_where = [\"### Fill Cross Sections for\" in x for x in lines]\n",
    "start_index = np.where(start_where)[0][0] + 4\n",
    "if( lines[start_index].split()[0]!=\"0\" ):\n",
    "    raise Exception(\"Index first data point should be zero\")"
   ]
  },
  {
   "cell_type": "code",
   "execution_count": 5,
   "metadata": {},
   "outputs": [
    {
     "name": "stdout",
     "output_type": "stream",
     "text": [
      "['N', 'E(MeV)', 'Elastic(b)', 'Inelastic(b)', 'Total(b)']\n"
     ]
    }
   ],
   "source": [
    "variable_names = lines[start_index-2].split()\n",
    "data = {name: [] for name in variable_names}\n",
    "for line in lines[start_index:]:\n",
    "    if( line[0]==\"-\" ):\n",
    "        break\n",
    "    else:\n",
    "        data_i = line.split()\n",
    "        for name, x in zip(variable_names,data_i):\n",
    "            data[name].append( float(x) )\n",
    "print( variable_names )"
   ]
  },
  {
   "cell_type": "code",
   "execution_count": 6,
   "metadata": {},
   "outputs": [
    {
     "data": {
      "image/png": "[encoded data removed]",
      "text/plain": [
       "<Figure size 432x288 with 1 Axes>"
      ]
     },
     "metadata": {
      "needs_background": "light"
     },
     "output_type": "display_data"
    }
   ],
   "source": [
    "x = data['E(MeV)']\n",
    "y = data['Inelastic(b)']\n",
    "ttt = plt.plot(x,y)\n",
    "ttt = plt.xscale(\"log\")\n",
    "ttt = plt.xlabel(\"Energy (MeV)\")\n",
    "ttt = plt.ylabel(\"Cross section (barn)\")"
   ]
  },
  {
   "cell_type": "code",
   "execution_count": 7,
   "metadata": {},
   "outputs": [],
   "source": [
    "# Don't really see any difference between QGSP & FTFP\n",
    "\n",
    "Primary, Material = \"4-HELIUM\", \"Bi\" #\"CARBON\" '4-HELIUMION'    4-HELIUM    PROTON\n",
    "Model = \"FTFP\"\n",
    "\n",
    "with open(\"CrossSections/Geant4_{}_{}_on_{}.txt\".format(Model,Primary,Material), \"w\") as f:\n",
    "    f.write(\"# Energy (GeV)      Cross section (barn)\\n\")\n",
    "    for E, s in zip(data['E(MeV)'],data['Inelastic(b)']):\n",
    "        f.write(\"  {:<17.3e} {:.3e}\\n\".format(1e-3*E,s))"
   ]
  },
  {
   "cell_type": "code",
   "execution_count": null,
   "metadata": {},
   "outputs": [],
   "source": []
  },
  {
   "cell_type": "code",
   "execution_count": null,
   "metadata": {},
   "outputs": [],
   "source": []
  }
 ],
 "metadata": {
  "kernelspec": {
   "display_name": "Python 2",
   "language": "python",
   "name": "python2"
  },
  "language_info": {
   "codemirror_mode": {
    "name": "ipython",
    "version": 2
   },
   "file_extension": ".py",
   "mimetype": "text/x-python",
   "name": "python",
   "nbconvert_exporter": "python",
   "pygments_lexer": "ipython2",
   "version": "2.7.14"
  }
 },
 "nbformat": 4,
 "nbformat_minor": 2
}
